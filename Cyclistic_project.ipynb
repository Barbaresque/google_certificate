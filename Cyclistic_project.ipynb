{
 "cells": [
  {
   "cell_type": "markdown",
   "metadata": {},
   "source": [
    " # **Cyclisitc Bike-Share**"
   ]
  },
  {
   "cell_type": "markdown",
   "metadata": {},
   "source": [
    "## **I) Scenario :**"
   ]
  },
  {
   "cell_type": "markdown",
   "metadata": {},
   "source": [
    "### **1. Description :**  \n",
    "You are a junior data analyst working on the marketing analyst team at Cyclistic, a bike-share company in Chicago. The director of marketing believes the company’s future success depends on maximizing the number of annual memberships. Therefore, your team wants to understand how casual riders and annual members use Cyclistic bikes differently. From these insights, your team will design a new marketing strategy to convert casual riders into annual members. But first, Cyclistic executives must approve your recommendations, so they must be backed up with compelling data insights and professional data visualizations. "
   ]
  },
  {
   "cell_type": "markdown",
   "metadata": {},
   "source": [
    "### **2. Characters and teams**\n",
    "- **Cyclistic:** A bike-share program that features more than 5,800 bicycles and 600 docking stations. Cyclistic sets itself apart by also offering reclining bikes, hand tricycles, and cargo bikes, making bike-share more inclusive to people with disabilities and riders who can’t use a standard two-wheeled bike. The majority of riders opt for traditional bikes; about 8% of riders use the assistive options. Cyclistic users are more likely to ride for leisure, but about 30% use the bikes to commute to work each day. \n",
    "- **Lily Moreno:** The director of marketing and your manager. Moreno is responsible for the development of campaigns and initiatives to promote the bike-share program. These may include email, social media, and other channels.\n",
    "- **Cyclistic marketing analytics team:** A team of data analysts who are responsible for collecting, analyzing, and reporting data that helps guide Cyclistic marketing strategy. You joined this team six months ago and have been busy learning about Cyclistic’s mission and business goals—as well as how you, as a junior data analyst, can help Cyclisitc achieve them.\n",
    "- **Cyclistic executive team:** The notoriously detail-oriented executive team will decide whether to approve the recommended marketing program."
   ]
  },
  {
   "cell_type": "markdown",
   "metadata": {},
   "source": [
    "### **3. About the company**\n",
    "- In 2016, Cyclistic launched a successful bike-share offering. Since then, the program has grown to a fleet of **5,824 bicycles** that are geotracked and locked into a network of **692 stations** across Chicago. The bikes can be unlocked from one station and returned to any other station in the system anytime.\n",
    "- Until now, Cyclistic’s marketing strategy relied on building general awareness and appealing to broad consumer segments. One approach that helped make these things possible was the flexibility of its pricing plans: **single-ride passes**, **full-day passes,** and **annual memberships.** Customers who purchase single-ride or full-day passes are referred to as casual riders. Customers who purchase annual memberships are Cyclistic members.\n",
    "- Moreno has set a clear goal: Design marketing strategies aimed at converting casual riders into annual members. In order to do that, however, the team needs to better understand how annual members and casual riders differ, why casual riders would buy a membership, and how digital media could affect their marketing tactics. Moreno and her team are interested in analyzing the Cyclistic historical bike trip data to identify trends."
   ]
  },
  {
   "cell_type": "markdown",
   "metadata": {},
   "source": [
    "### **4. The problem**\n",
    "\n",
    "1. **How do annual members and casual riders use Cyclistic bikes differently?** \n",
    "2. **Why would casual riders buy Cyclistic annual memberships?**\n",
    "3. **How can Cyclistic use digital media to influence casual riders to become members?**"
   ]
  },
  {
   "cell_type": "markdown",
   "metadata": {},
   "source": [
    "### **5. The data**\n",
    "\n",
    "1. Use Cyclistic’s historical trip data to analyze and identify trends.\n",
    "2. Download the previous 12 months of [Cyclistic trip data](https://divvy-tripdata.s3.amazonaws.com/index.html).\n",
    "3. The data has been made available by Motivate International Inc. under this [license](https://divvybikes.com/data-license-agreement). This is public data that you can use to explore how different customer types are using Cyclistic bikes."
   ]
  },
  {
   "cell_type": "markdown",
   "metadata": {},
   "source": [
    "## **II) Data Exploration EDA**"
   ]
  },
  {
   "cell_type": "code",
   "execution_count": null,
   "metadata": {},
   "outputs": [],
   "source": [
    "# OPERATIONAL LIBRARIES \n",
    "import pandas as pd \n",
    "import numpy as np  \n",
    "from datetime import datetime\n",
    "# VISUALISATION LIBRARIES\n",
    "import matplotlib.pyplot as plt\n",
    "import seaborn as sns\n",
    "import plotly.express as px"
   ]
  },
  {
   "cell_type": "code",
   "execution_count": null,
   "metadata": {},
   "outputs": [],
   "source": [
    "import zipfile\n",
    "import io\n",
    "\n",
    "# Load zip files (12 months of Cyclistic data year 2024): \n",
    "final_df = pd.DataFrame()\n",
    "\n",
    "for i in range(1, 10):\n",
    "    file_name = f\"20240{i}-divvy-tripdata.zip\"\n",
    "    with zipfile.ZipFile(file_name) as z:\n",
    "        # Find the CSV file (ignore hidden files)\n",
    "        csv_files = [f for f in z.namelist() if f.endswith('.csv') and not f.startswith('__MACOSX')]\n",
    "        if len(csv_files) != 1:\n",
    "            raise ValueError(f\"Expected one CSV file in {file_name}, found: {csv_files}\")\n",
    "        with z.open(csv_files[0]) as f:\n",
    "            df = pd.read_csv(f)\n",
    "            final_df = pd.concat([final_df, df], ignore_index=True)\n",
    "\n",
    "for i in range(10, 13):\n",
    "    file_name = f\"2024{i}-divvy-tripdata.zip\"\n",
    "    with zipfile.ZipFile(file_name) as z:\n",
    "        csv_files = [f for f in z.namelist() if f.endswith('.csv') and not f.startswith('__MACOSX')]\n",
    "        if len(csv_files) != 1:\n",
    "            raise ValueError(f\"Expected one CSV file in {file_name}, found: {csv_files}\")\n",
    "        with z.open(csv_files[0]) as f:\n",
    "            df = pd.read_csv(f)\n",
    "            final_df = pd.concat([final_df, df], ignore_index=True)"
   ]
  },
  {
   "cell_type": "markdown",
   "metadata": {},
   "source": [
    "### **1. Exploration & Cleaning :**"
   ]
  },
  {
   "cell_type": "code",
   "execution_count": null,
   "metadata": {},
   "outputs": [
    {
     "data": {
      "text/html": [
       "<div>\n",
       "<style scoped>\n",
       "    .dataframe tbody tr th:only-of-type {\n",
       "        vertical-align: middle;\n",
       "    }\n",
       "\n",
       "    .dataframe tbody tr th {\n",
       "        vertical-align: top;\n",
       "    }\n",
       "\n",
       "    .dataframe thead th {\n",
       "        text-align: right;\n",
       "    }\n",
       "</style>\n",
       "<table border=\"1\" class=\"dataframe\">\n",
       "  <thead>\n",
       "    <tr style=\"text-align: right;\">\n",
       "      <th></th>\n",
       "      <th>ride_id</th>\n",
       "      <th>rideable_type</th>\n",
       "      <th>started_at</th>\n",
       "      <th>ended_at</th>\n",
       "      <th>start_station_name</th>\n",
       "      <th>start_station_id</th>\n",
       "      <th>end_station_name</th>\n",
       "      <th>end_station_id</th>\n",
       "      <th>start_lat</th>\n",
       "      <th>start_lng</th>\n",
       "      <th>end_lat</th>\n",
       "      <th>end_lng</th>\n",
       "      <th>member_casual</th>\n",
       "    </tr>\n",
       "  </thead>\n",
       "  <tbody>\n",
       "    <tr>\n",
       "      <th>0</th>\n",
       "      <td>C1D650626C8C899A</td>\n",
       "      <td>electric_bike</td>\n",
       "      <td>2024-01-12 15:30:27</td>\n",
       "      <td>2024-01-12 15:37:59</td>\n",
       "      <td>Wells St &amp; Elm St</td>\n",
       "      <td>KA1504000135</td>\n",
       "      <td>Kingsbury St &amp; Kinzie St</td>\n",
       "      <td>KA1503000043</td>\n",
       "      <td>41.903267</td>\n",
       "      <td>-87.634737</td>\n",
       "      <td>41.889177</td>\n",
       "      <td>-87.638506</td>\n",
       "      <td>member</td>\n",
       "    </tr>\n",
       "    <tr>\n",
       "      <th>1</th>\n",
       "      <td>EECD38BDB25BFCB0</td>\n",
       "      <td>electric_bike</td>\n",
       "      <td>2024-01-08 15:45:46</td>\n",
       "      <td>2024-01-08 15:52:59</td>\n",
       "      <td>Wells St &amp; Elm St</td>\n",
       "      <td>KA1504000135</td>\n",
       "      <td>Kingsbury St &amp; Kinzie St</td>\n",
       "      <td>KA1503000043</td>\n",
       "      <td>41.902937</td>\n",
       "      <td>-87.634440</td>\n",
       "      <td>41.889177</td>\n",
       "      <td>-87.638506</td>\n",
       "      <td>member</td>\n",
       "    </tr>\n",
       "    <tr>\n",
       "      <th>2</th>\n",
       "      <td>F4A9CE78061F17F7</td>\n",
       "      <td>electric_bike</td>\n",
       "      <td>2024-01-27 12:27:19</td>\n",
       "      <td>2024-01-27 12:35:19</td>\n",
       "      <td>Wells St &amp; Elm St</td>\n",
       "      <td>KA1504000135</td>\n",
       "      <td>Kingsbury St &amp; Kinzie St</td>\n",
       "      <td>KA1503000043</td>\n",
       "      <td>41.902951</td>\n",
       "      <td>-87.634470</td>\n",
       "      <td>41.889177</td>\n",
       "      <td>-87.638506</td>\n",
       "      <td>member</td>\n",
       "    </tr>\n",
       "    <tr>\n",
       "      <th>3</th>\n",
       "      <td>0A0D9E15EE50B171</td>\n",
       "      <td>classic_bike</td>\n",
       "      <td>2024-01-29 16:26:17</td>\n",
       "      <td>2024-01-29 16:56:06</td>\n",
       "      <td>Wells St &amp; Randolph St</td>\n",
       "      <td>TA1305000030</td>\n",
       "      <td>Larrabee St &amp; Webster Ave</td>\n",
       "      <td>13193</td>\n",
       "      <td>41.884295</td>\n",
       "      <td>-87.633963</td>\n",
       "      <td>41.921822</td>\n",
       "      <td>-87.644140</td>\n",
       "      <td>member</td>\n",
       "    </tr>\n",
       "    <tr>\n",
       "      <th>4</th>\n",
       "      <td>33FFC9805E3EFF9A</td>\n",
       "      <td>classic_bike</td>\n",
       "      <td>2024-01-31 05:43:23</td>\n",
       "      <td>2024-01-31 06:09:35</td>\n",
       "      <td>Lincoln Ave &amp; Waveland Ave</td>\n",
       "      <td>13253</td>\n",
       "      <td>Kingsbury St &amp; Kinzie St</td>\n",
       "      <td>KA1503000043</td>\n",
       "      <td>41.948797</td>\n",
       "      <td>-87.675278</td>\n",
       "      <td>41.889177</td>\n",
       "      <td>-87.638506</td>\n",
       "      <td>member</td>\n",
       "    </tr>\n",
       "  </tbody>\n",
       "</table>\n",
       "</div>"
      ],
      "text/plain": [
       "            ride_id  rideable_type           started_at             ended_at  \\\n",
       "0  C1D650626C8C899A  electric_bike  2024-01-12 15:30:27  2024-01-12 15:37:59   \n",
       "1  EECD38BDB25BFCB0  electric_bike  2024-01-08 15:45:46  2024-01-08 15:52:59   \n",
       "2  F4A9CE78061F17F7  electric_bike  2024-01-27 12:27:19  2024-01-27 12:35:19   \n",
       "3  0A0D9E15EE50B171   classic_bike  2024-01-29 16:26:17  2024-01-29 16:56:06   \n",
       "4  33FFC9805E3EFF9A   classic_bike  2024-01-31 05:43:23  2024-01-31 06:09:35   \n",
       "\n",
       "           start_station_name start_station_id           end_station_name  \\\n",
       "0           Wells St & Elm St     KA1504000135   Kingsbury St & Kinzie St   \n",
       "1           Wells St & Elm St     KA1504000135   Kingsbury St & Kinzie St   \n",
       "2           Wells St & Elm St     KA1504000135   Kingsbury St & Kinzie St   \n",
       "3      Wells St & Randolph St     TA1305000030  Larrabee St & Webster Ave   \n",
       "4  Lincoln Ave & Waveland Ave            13253   Kingsbury St & Kinzie St   \n",
       "\n",
       "  end_station_id  start_lat  start_lng    end_lat    end_lng member_casual  \n",
       "0   KA1503000043  41.903267 -87.634737  41.889177 -87.638506        member  \n",
       "1   KA1503000043  41.902937 -87.634440  41.889177 -87.638506        member  \n",
       "2   KA1503000043  41.902951 -87.634470  41.889177 -87.638506        member  \n",
       "3          13193  41.884295 -87.633963  41.921822 -87.644140        member  \n",
       "4   KA1503000043  41.948797 -87.675278  41.889177 -87.638506        member  "
      ]
     },
     "execution_count": 34,
     "metadata": {},
     "output_type": "execute_result"
    }
   ],
   "source": [
    "final_df.reset_index(drop=True, inplace=True) # this will reset the index of the final DataFrame.\n",
    "final_df.head() # This will display the first five rows."
   ]
  },
  {
   "cell_type": "code",
   "execution_count": null,
   "metadata": {},
   "outputs": [
    {
     "data": {
      "text/plain": [
       "Index(['ride_id', 'rideable_type', 'started_at', 'ended_at',\n",
       "       'start_station_name', 'start_station_id', 'end_station_name',\n",
       "       'end_station_id', 'start_lat', 'start_lng', 'end_lat', 'end_lng',\n",
       "       'member_casual'],\n",
       "      dtype='object')"
      ]
     },
     "execution_count": 35,
     "metadata": {},
     "output_type": "execute_result"
    }
   ],
   "source": [
    "final_df.columns"
   ]
  },
  {
   "cell_type": "code",
   "execution_count": null,
   "metadata": {},
   "outputs": [
    {
     "name": "stdout",
     "output_type": "stream",
     "text": [
      "<class 'pandas.core.frame.DataFrame'>\n",
      "RangeIndex: 5860568 entries, 0 to 5860567\n",
      "Data columns (total 13 columns):\n",
      " #   Column              Dtype  \n",
      "---  ------              -----  \n",
      " 0   ride_id             object \n",
      " 1   rideable_type       object \n",
      " 2   started_at          object \n",
      " 3   ended_at            object \n",
      " 4   start_station_name  object \n",
      " 5   start_station_id    object \n",
      " 6   end_station_name    object \n",
      " 7   end_station_id      object \n",
      " 8   start_lat           float64\n",
      " 9   start_lng           float64\n",
      " 10  end_lat             float64\n",
      " 11  end_lng             float64\n",
      " 12  member_casual       object \n",
      "dtypes: float64(4), object(9)\n",
      "memory usage: 581.3+ MB\n"
     ]
    }
   ],
   "source": [
    "final_df.info() \n",
    "# We have 5 860 568 rows or trips and 13 columns. \n",
    "# We have geographic data, stations data, user types, time data, bike types. "
   ]
  },
  {
   "cell_type": "code",
   "execution_count": null,
   "metadata": {},
   "outputs": [
    {
     "name": "stdout",
     "output_type": "stream",
     "text": [
      "ride_id                0.00\n",
      "rideable_type          0.00\n",
      "started_at             0.00\n",
      "ended_at               0.00\n",
      "start_station_name    18.33\n",
      "start_station_id      18.33\n",
      "end_station_name      18.85\n",
      "end_station_id        18.85\n",
      "start_lat              0.00\n",
      "start_lng              0.00\n",
      "end_lat                0.12\n",
      "end_lng                0.12\n",
      "member_casual          0.00\n",
      "dtype: float64\n"
     ]
    }
   ],
   "source": [
    "# Check for missing values: show the percentage\n",
    "print(round(final_df.isna().sum() / len(final_df) * 100, 2))\n",
    "# There are few missing values in end stations. However, we have around 20% missing values in station names and ids which are not critical for our analysis.\n",
    "# We can drop missing rows in longitude and latitude data as they are critical for our analysis.\n",
    "final_df.dropna(subset=['start_lat', 'start_lng', 'end_lat', 'end_lng'], inplace=True)"
   ]
  },
  {
   "cell_type": "code",
   "execution_count": null,
   "metadata": {},
   "outputs": [
    {
     "data": {
      "text/plain": [
       "0"
      ]
     },
     "execution_count": 38,
     "metadata": {},
     "output_type": "execute_result"
    }
   ],
   "source": [
    "# Check for duplicates: \n",
    "final_df.duplicated().sum() # There are no duplicates in the data. "
   ]
  },
  {
   "cell_type": "code",
   "execution_count": null,
   "metadata": {},
   "outputs": [],
   "source": [
    "# let's check duplicates in ride_id:\n",
    "final_df['ride_id'].duplicated().sum() # There are 171 duplicates in ride_id.\n",
    "# Let's remove the 171 duplicates in ride_id\n",
    "final_df = final_df[~final_df['ride_id'].duplicated(keep='first')].reset_index(drop=True)"
   ]
  },
  {
   "cell_type": "code",
   "execution_count": null,
   "metadata": {},
   "outputs": [
    {
     "name": "stdout",
     "output_type": "stream",
     "text": [
      "['electric_bike' 'classic_bike' 'electric_scooter']\n",
      "['member' 'casual']\n"
     ]
    }
   ],
   "source": [
    "# Let's check unique values in some columns: \n",
    "print(final_df['rideable_type'].unique()) # ['electric_bike' 'classic_bike' 'electric_scooter']\n",
    "print(final_df['member_casual'].unique()) # ['member' 'casual']"
   ]
  },
  {
   "cell_type": "markdown",
   "metadata": {},
   "source": [
    "### **2. Transformation & Extraction :** "
   ]
  },
  {
   "cell_type": "code",
   "execution_count": null,
   "metadata": {},
   "outputs": [],
   "source": [
    "# Transform datatypes: started_at and ended_at are objects, we need to convert them to datetime\n",
    "final_df['started_at'] = pd.to_datetime(final_df['started_at'], format='mixed')\n",
    "final_df['ended_at'] = pd.to_datetime(final_df['ended_at'], format='mixed')\n"
   ]
  },
  {
   "cell_type": "code",
   "execution_count": null,
   "metadata": {},
   "outputs": [],
   "source": [
    "# Let's create new columns for the duration of the trip, season, month, day of the week, and hour of the day\n",
    "final_df['duration_min'] = round((final_df['ended_at'] - final_df['started_at']).dt.total_seconds() / 60, 2)  # duration in minutes\n",
    "final_df['month'] = final_df['started_at'].dt.month_name()  # month name\n",
    "final_df['day_of_week'] = final_df['started_at'].dt.day_name()  # day of the week\n",
    "final_df['hour'] = final_df['started_at'].dt.hour  # hour of the day"
   ]
  },
  {
   "cell_type": "code",
   "execution_count": null,
   "metadata": {},
   "outputs": [],
   "source": [
    "# Add the season : Winter, Spring, Summer, Fall\n",
    "# define a function that crawls the month and returns the season\n",
    "def get_season(month):\n",
    "    if month in ['December', 'January', 'February']:\n",
    "        return 'Winter'\n",
    "    elif month in ['March', 'April', 'May']:\n",
    "        return 'Spring'\n",
    "    elif month in ['June', 'July', 'August']:\n",
    "        return 'Summer'\n",
    "    else:\n",
    "        return 'Fall'\n",
    "# apply the function to the month column\n",
    "final_df['season'] = final_df['month'].apply(get_season)  # season"
   ]
  },
  {
   "cell_type": "code",
   "execution_count": null,
   "metadata": {},
   "outputs": [],
   "source": [
    "# Let's calculate a new column for the trip distance using the Haversine formula\n",
    "def haversine(lat1, lon1, lat2, lon2):\n",
    "    # Convert latitude and longitude from degrees to radians\n",
    "    lat1, lon1, lat2, lon2 = map(np.radians, [lat1, lon1, lat2, lon2])\n",
    "    \n",
    "    # Haversine formula\n",
    "    dlon = lon2 - lon1 \n",
    "    dlat = lat2 - lat1 \n",
    "    a = np.sin(dlat/2)**2 + np.cos(lat1) * np.cos(lat2) * np.sin(dlon/2)**2\n",
    "    c = 2 * np.arcsin(np.sqrt(a)) \n",
    "    r = 6371  # Radius of Earth in kilometers.\n",
    "    \n",
    "    return c * r\n",
    "# Calculate the distance for each trip\n",
    "final_df['distance_kms'] = haversine(final_df['start_lat'], final_df['start_lng'], final_df['end_lat'], final_df['end_lng'])"
   ]
  },
  {
   "cell_type": "code",
   "execution_count": null,
   "metadata": {},
   "outputs": [
    {
     "data": {
      "text/html": [
       "<div>\n",
       "<style scoped>\n",
       "    .dataframe tbody tr th:only-of-type {\n",
       "        vertical-align: middle;\n",
       "    }\n",
       "\n",
       "    .dataframe tbody tr th {\n",
       "        vertical-align: top;\n",
       "    }\n",
       "\n",
       "    .dataframe thead th {\n",
       "        text-align: right;\n",
       "    }\n",
       "</style>\n",
       "<table border=\"1\" class=\"dataframe\">\n",
       "  <thead>\n",
       "    <tr style=\"text-align: right;\">\n",
       "      <th></th>\n",
       "      <th>ride_id</th>\n",
       "      <th>rideable_type</th>\n",
       "      <th>started_at</th>\n",
       "      <th>ended_at</th>\n",
       "      <th>start_lat</th>\n",
       "      <th>start_lng</th>\n",
       "      <th>end_lat</th>\n",
       "      <th>end_lng</th>\n",
       "      <th>member_casual</th>\n",
       "      <th>duration_min</th>\n",
       "      <th>month</th>\n",
       "      <th>day_of_week</th>\n",
       "      <th>hour</th>\n",
       "      <th>season</th>\n",
       "      <th>distance_kms</th>\n",
       "    </tr>\n",
       "  </thead>\n",
       "  <tbody>\n",
       "    <tr>\n",
       "      <th>0</th>\n",
       "      <td>C1D650626C8C899A</td>\n",
       "      <td>electric_bike</td>\n",
       "      <td>2024-01-12 15:30:27</td>\n",
       "      <td>2024-01-12 15:37:59</td>\n",
       "      <td>41.903267</td>\n",
       "      <td>-87.634737</td>\n",
       "      <td>41.889177</td>\n",
       "      <td>-87.638506</td>\n",
       "      <td>member</td>\n",
       "      <td>7.53</td>\n",
       "      <td>January</td>\n",
       "      <td>Friday</td>\n",
       "      <td>15</td>\n",
       "      <td>Winter</td>\n",
       "      <td>1.597552</td>\n",
       "    </tr>\n",
       "    <tr>\n",
       "      <th>1</th>\n",
       "      <td>EECD38BDB25BFCB0</td>\n",
       "      <td>electric_bike</td>\n",
       "      <td>2024-01-08 15:45:46</td>\n",
       "      <td>2024-01-08 15:52:59</td>\n",
       "      <td>41.902937</td>\n",
       "      <td>-87.634440</td>\n",
       "      <td>41.889177</td>\n",
       "      <td>-87.638506</td>\n",
       "      <td>member</td>\n",
       "      <td>7.22</td>\n",
       "      <td>January</td>\n",
       "      <td>Monday</td>\n",
       "      <td>15</td>\n",
       "      <td>Winter</td>\n",
       "      <td>1.566573</td>\n",
       "    </tr>\n",
       "    <tr>\n",
       "      <th>2</th>\n",
       "      <td>F4A9CE78061F17F7</td>\n",
       "      <td>electric_bike</td>\n",
       "      <td>2024-01-27 12:27:19</td>\n",
       "      <td>2024-01-27 12:35:19</td>\n",
       "      <td>41.902951</td>\n",
       "      <td>-87.634470</td>\n",
       "      <td>41.889177</td>\n",
       "      <td>-87.638506</td>\n",
       "      <td>member</td>\n",
       "      <td>8.00</td>\n",
       "      <td>January</td>\n",
       "      <td>Saturday</td>\n",
       "      <td>12</td>\n",
       "      <td>Winter</td>\n",
       "      <td>1.567650</td>\n",
       "    </tr>\n",
       "    <tr>\n",
       "      <th>3</th>\n",
       "      <td>0A0D9E15EE50B171</td>\n",
       "      <td>classic_bike</td>\n",
       "      <td>2024-01-29 16:26:17</td>\n",
       "      <td>2024-01-29 16:56:06</td>\n",
       "      <td>41.884295</td>\n",
       "      <td>-87.633963</td>\n",
       "      <td>41.921822</td>\n",
       "      <td>-87.644140</td>\n",
       "      <td>member</td>\n",
       "      <td>29.82</td>\n",
       "      <td>January</td>\n",
       "      <td>Monday</td>\n",
       "      <td>16</td>\n",
       "      <td>Winter</td>\n",
       "      <td>4.256963</td>\n",
       "    </tr>\n",
       "    <tr>\n",
       "      <th>4</th>\n",
       "      <td>33FFC9805E3EFF9A</td>\n",
       "      <td>classic_bike</td>\n",
       "      <td>2024-01-31 05:43:23</td>\n",
       "      <td>2024-01-31 06:09:35</td>\n",
       "      <td>41.948797</td>\n",
       "      <td>-87.675278</td>\n",
       "      <td>41.889177</td>\n",
       "      <td>-87.638506</td>\n",
       "      <td>member</td>\n",
       "      <td>26.20</td>\n",
       "      <td>January</td>\n",
       "      <td>Wednesday</td>\n",
       "      <td>5</td>\n",
       "      <td>Winter</td>\n",
       "      <td>7.294281</td>\n",
       "    </tr>\n",
       "  </tbody>\n",
       "</table>\n",
       "</div>"
      ],
      "text/plain": [
       "            ride_id  rideable_type          started_at            ended_at  \\\n",
       "0  C1D650626C8C899A  electric_bike 2024-01-12 15:30:27 2024-01-12 15:37:59   \n",
       "1  EECD38BDB25BFCB0  electric_bike 2024-01-08 15:45:46 2024-01-08 15:52:59   \n",
       "2  F4A9CE78061F17F7  electric_bike 2024-01-27 12:27:19 2024-01-27 12:35:19   \n",
       "3  0A0D9E15EE50B171   classic_bike 2024-01-29 16:26:17 2024-01-29 16:56:06   \n",
       "4  33FFC9805E3EFF9A   classic_bike 2024-01-31 05:43:23 2024-01-31 06:09:35   \n",
       "\n",
       "   start_lat  start_lng    end_lat    end_lng member_casual  duration_min  \\\n",
       "0  41.903267 -87.634737  41.889177 -87.638506        member          7.53   \n",
       "1  41.902937 -87.634440  41.889177 -87.638506        member          7.22   \n",
       "2  41.902951 -87.634470  41.889177 -87.638506        member          8.00   \n",
       "3  41.884295 -87.633963  41.921822 -87.644140        member         29.82   \n",
       "4  41.948797 -87.675278  41.889177 -87.638506        member         26.20   \n",
       "\n",
       "     month day_of_week  hour  season  distance_kms  \n",
       "0  January      Friday    15  Winter      1.597552  \n",
       "1  January      Monday    15  Winter      1.566573  \n",
       "2  January    Saturday    12  Winter      1.567650  \n",
       "3  January      Monday    16  Winter      4.256963  \n",
       "4  January   Wednesday     5  Winter      7.294281  "
      ]
     },
     "execution_count": 45,
     "metadata": {},
     "output_type": "execute_result"
    }
   ],
   "source": [
    "# Let's use another dataset with just critical columns for our analysis: \n",
    "data = final_df.copy();\n",
    "data = data.drop(columns=['start_station_name', 'start_station_id', 'end_station_name', 'end_station_id'], axis=1).reset_index(drop=True)\n",
    "data.head() # This will display the first five rows of the new dataset."
   ]
  },
  {
   "cell_type": "markdown",
   "metadata": {},
   "source": [
    "## **III) Statistical Analysis**"
   ]
  },
  {
   "cell_type": "markdown",
   "metadata": {},
   "source": [
    "### **1. Data summary with describe method :** "
   ]
  },
  {
   "cell_type": "code",
   "execution_count": null,
   "metadata": {},
   "outputs": [
    {
     "data": {
      "text/html": [
       "<div>\n",
       "<style scoped>\n",
       "    .dataframe tbody tr th:only-of-type {\n",
       "        vertical-align: middle;\n",
       "    }\n",
       "\n",
       "    .dataframe tbody tr th {\n",
       "        vertical-align: top;\n",
       "    }\n",
       "\n",
       "    .dataframe thead th {\n",
       "        text-align: right;\n",
       "    }\n",
       "</style>\n",
       "<table border=\"1\" class=\"dataframe\">\n",
       "  <thead>\n",
       "    <tr style=\"text-align: right;\">\n",
       "      <th></th>\n",
       "      <th>count</th>\n",
       "      <th>mean</th>\n",
       "      <th>std</th>\n",
       "      <th>min</th>\n",
       "      <th>25%</th>\n",
       "      <th>50%</th>\n",
       "      <th>75%</th>\n",
       "      <th>max</th>\n",
       "    </tr>\n",
       "  </thead>\n",
       "  <tbody>\n",
       "    <tr>\n",
       "      <th>duration_min</th>\n",
       "      <td>5853165.0</td>\n",
       "      <td>15.480359</td>\n",
       "      <td>32.825698</td>\n",
       "      <td>-2748.32</td>\n",
       "      <td>5.540000</td>\n",
       "      <td>9.700000</td>\n",
       "      <td>17.21000</td>\n",
       "      <td>1509.370000</td>\n",
       "    </tr>\n",
       "    <tr>\n",
       "      <th>hour</th>\n",
       "      <td>5853165.0</td>\n",
       "      <td>14.045529</td>\n",
       "      <td>4.881684</td>\n",
       "      <td>0.00</td>\n",
       "      <td>11.000000</td>\n",
       "      <td>15.000000</td>\n",
       "      <td>18.00000</td>\n",
       "      <td>23.000000</td>\n",
       "    </tr>\n",
       "    <tr>\n",
       "      <th>distance_kms</th>\n",
       "      <td>5853165.0</td>\n",
       "      <td>2.152720</td>\n",
       "      <td>5.117905</td>\n",
       "      <td>0.00</td>\n",
       "      <td>0.875232</td>\n",
       "      <td>1.569688</td>\n",
       "      <td>2.79713</td>\n",
       "      <td>5758.134884</td>\n",
       "    </tr>\n",
       "  </tbody>\n",
       "</table>\n",
       "</div>"
      ],
      "text/plain": [
       "                  count       mean        std      min        25%        50%  \\\n",
       "duration_min  5853165.0  15.480359  32.825698 -2748.32   5.540000   9.700000   \n",
       "hour          5853165.0  14.045529   4.881684     0.00  11.000000  15.000000   \n",
       "distance_kms  5853165.0   2.152720   5.117905     0.00   0.875232   1.569688   \n",
       "\n",
       "                   75%          max  \n",
       "duration_min  17.21000  1509.370000  \n",
       "hour          18.00000    23.000000  \n",
       "distance_kms   2.79713  5758.134884  "
      ]
     },
     "execution_count": 46,
     "metadata": {},
     "output_type": "execute_result"
    }
   ],
   "source": [
    "# Use describe to get a summary of the data : \n",
    "data[['duration_min', 'hour', 'distance_kms']].describe().T\n",
    "# We can see that duration is negative which seems odd. Let's check this column closely"
   ]
  },
  {
   "cell_type": "code",
   "execution_count": null,
   "metadata": {},
   "outputs": [
    {
     "data": {
      "text/html": [
       "<div>\n",
       "<style scoped>\n",
       "    .dataframe tbody tr th:only-of-type {\n",
       "        vertical-align: middle;\n",
       "    }\n",
       "\n",
       "    .dataframe tbody tr th {\n",
       "        vertical-align: top;\n",
       "    }\n",
       "\n",
       "    .dataframe thead th {\n",
       "        text-align: right;\n",
       "    }\n",
       "</style>\n",
       "<table border=\"1\" class=\"dataframe\">\n",
       "  <thead>\n",
       "    <tr style=\"text-align: right;\">\n",
       "      <th></th>\n",
       "      <th>count</th>\n",
       "      <th>mean</th>\n",
       "      <th>std</th>\n",
       "      <th>min</th>\n",
       "      <th>25%</th>\n",
       "      <th>50%</th>\n",
       "      <th>75%</th>\n",
       "      <th>max</th>\n",
       "    </tr>\n",
       "  </thead>\n",
       "  <tbody>\n",
       "    <tr>\n",
       "      <th>duration_min</th>\n",
       "      <td>5852379.0</td>\n",
       "      <td>15.483829</td>\n",
       "      <td>32.802176</td>\n",
       "      <td>0.01</td>\n",
       "      <td>5.540000</td>\n",
       "      <td>9.700000</td>\n",
       "      <td>17.21000</td>\n",
       "      <td>1509.370000</td>\n",
       "    </tr>\n",
       "    <tr>\n",
       "      <th>hour</th>\n",
       "      <td>5852379.0</td>\n",
       "      <td>14.045578</td>\n",
       "      <td>4.881546</td>\n",
       "      <td>0.00</td>\n",
       "      <td>11.000000</td>\n",
       "      <td>15.000000</td>\n",
       "      <td>18.00000</td>\n",
       "      <td>23.000000</td>\n",
       "    </tr>\n",
       "    <tr>\n",
       "      <th>distance_kms</th>\n",
       "      <td>5852379.0</td>\n",
       "      <td>2.152969</td>\n",
       "      <td>5.118195</td>\n",
       "      <td>0.00</td>\n",
       "      <td>0.875469</td>\n",
       "      <td>1.569851</td>\n",
       "      <td>2.79755</td>\n",
       "      <td>5758.134884</td>\n",
       "    </tr>\n",
       "  </tbody>\n",
       "</table>\n",
       "</div>"
      ],
      "text/plain": [
       "                  count       mean        std   min        25%        50%  \\\n",
       "duration_min  5852379.0  15.483829  32.802176  0.01   5.540000   9.700000   \n",
       "hour          5852379.0  14.045578   4.881546  0.00  11.000000  15.000000   \n",
       "distance_kms  5852379.0   2.152969   5.118195  0.00   0.875469   1.569851   \n",
       "\n",
       "                   75%          max  \n",
       "duration_min  17.21000  1509.370000  \n",
       "hour          18.00000    23.000000  \n",
       "distance_kms   2.79755  5758.134884  "
      ]
     },
     "execution_count": 47,
     "metadata": {},
     "output_type": "execute_result"
    }
   ],
   "source": [
    "len(data[data['duration_min'] <= 0]) # We have 786 trips with negative or zero duration.\n",
    "# Let's drop these rows as they are not valid trips\n",
    "data = data[data['duration_min'] > 0].reset_index(drop=True)\n",
    "data[['duration_min', 'hour', 'distance_kms']].describe().T"
   ]
  },
  {
   "cell_type": "code",
   "execution_count": null,
   "metadata": {},
   "outputs": [
    {
     "data": {
      "text/html": [
       "<div>\n",
       "<style scoped>\n",
       "    .dataframe tbody tr th:only-of-type {\n",
       "        vertical-align: middle;\n",
       "    }\n",
       "\n",
       "    .dataframe tbody tr th {\n",
       "        vertical-align: top;\n",
       "    }\n",
       "\n",
       "    .dataframe thead th {\n",
       "        text-align: right;\n",
       "    }\n",
       "</style>\n",
       "<table border=\"1\" class=\"dataframe\">\n",
       "  <thead>\n",
       "    <tr style=\"text-align: right;\">\n",
       "      <th></th>\n",
       "      <th>ride_id</th>\n",
       "      <th>rideable_type</th>\n",
       "      <th>member_casual</th>\n",
       "      <th>month</th>\n",
       "      <th>day_of_week</th>\n",
       "      <th>season</th>\n",
       "    </tr>\n",
       "  </thead>\n",
       "  <tbody>\n",
       "    <tr>\n",
       "      <th>count</th>\n",
       "      <td>5852379</td>\n",
       "      <td>5852379</td>\n",
       "      <td>5852379</td>\n",
       "      <td>5852379</td>\n",
       "      <td>5852379</td>\n",
       "      <td>5852379</td>\n",
       "    </tr>\n",
       "    <tr>\n",
       "      <th>unique</th>\n",
       "      <td>5852379</td>\n",
       "      <td>3</td>\n",
       "      <td>2</td>\n",
       "      <td>12</td>\n",
       "      <td>7</td>\n",
       "      <td>4</td>\n",
       "    </tr>\n",
       "    <tr>\n",
       "      <th>top</th>\n",
       "      <td>C1D650626C8C899A</td>\n",
       "      <td>electric_bike</td>\n",
       "      <td>member</td>\n",
       "      <td>September</td>\n",
       "      <td>Saturday</td>\n",
       "      <td>Summer</td>\n",
       "    </tr>\n",
       "    <tr>\n",
       "      <th>freq</th>\n",
       "      <td>1</td>\n",
       "      <td>2979802</td>\n",
       "      <td>3706987</td>\n",
       "      <td>820156</td>\n",
       "      <td>923495</td>\n",
       "      <td>2212261</td>\n",
       "    </tr>\n",
       "  </tbody>\n",
       "</table>\n",
       "</div>"
      ],
      "text/plain": [
       "                 ride_id  rideable_type member_casual      month day_of_week  \\\n",
       "count            5852379        5852379       5852379    5852379     5852379   \n",
       "unique           5852379              3             2         12           7   \n",
       "top     C1D650626C8C899A  electric_bike        member  September    Saturday   \n",
       "freq                   1        2979802       3706987     820156      923495   \n",
       "\n",
       "         season  \n",
       "count   5852379  \n",
       "unique        4  \n",
       "top      Summer  \n",
       "freq    2212261  "
      ]
     },
     "execution_count": 48,
     "metadata": {},
     "output_type": "execute_result"
    }
   ],
   "source": [
    "# This is a summary of categorical data:  \n",
    "data.describe(include='object')"
   ]
  },
  {
   "cell_type": "markdown",
   "metadata": {},
   "source": [
    "### **2. Aggregation using groupby method :** "
   ]
  },
  {
   "cell_type": "code",
   "execution_count": null,
   "metadata": {},
   "outputs": [],
   "source": [
    "agg_bike_type= data.groupby(['member_casual', 'rideable_type']).size().reset_index(name='count')\n",
    "agg_month= data.groupby(['member_casual', 'month']).size().reset_index(name='count')\n",
    "agg_hour= data.groupby(['member_casual', 'hour']).size().reset_index(name='count')\n",
    "agg_day = data.groupby(['member_casual', 'day_of_week']).size().reset_index(name='count')\n",
    "agg_season = data.groupby(['member_casual', 'season']).size().reset_index(name='count')"
   ]
  },
  {
   "cell_type": "markdown",
   "metadata": {},
   "source": [
    "### **3. Visualization :** "
   ]
  },
  {
   "cell_type": "code",
   "execution_count": null,
   "metadata": {},
   "outputs": [
    {
     "data": {
      "image/png": "[encoded data removed]",
      "text/plain": [
       "<Figure size 400x400 with 1 Axes>"
      ]
     },
     "metadata": {},
     "output_type": "display_data"
    }
   ],
   "source": [
    "# Number of trips by user type\n",
    "colors = ['#59A33A', '#2D386D']  # member, casual\n",
    "data['member_casual'].value_counts().plot(\n",
    "    kind='pie',\n",
    "    colors=colors,\n",
    "    autopct='%1.1f%%',\n",
    "    startangle=90,\n",
    "    shadow=False,\n",
    "    explode=(0.05, 0),\n",
    "    figsize=(4, 4)\n",
    ")\n",
    "plt.title('Number of trips by user type')\n",
    "plt.ylabel('')\n",
    "plt.show()"
   ]
  },
  {
   "cell_type": "code",
   "execution_count": null,
   "metadata": {},
   "outputs": [
    {
     "data": {
      "image/png": "[encoded data removed]",
      "text/plain": [
       "<Figure size 1000x800 with 4 Axes>"
      ]
     },
     "metadata": {},
     "output_type": "display_data"
    }
   ],
   "source": [
    "# plot four aggregated data: \n",
    "fig, ax = plt.subplots(nrows=2, ncols=2, figsize=(10,8))\n",
    "# Bike Type Usage by User Type\n",
    "sns.barplot(data=agg_bike_type, x='rideable_type', y='count', hue='member_casual', palette= {\"member\":'#59A33A', \"casual\": '#2D386D'}, ax=ax[0,0])\n",
    "ax[0,0].set_title('Bike Type Usage by User Type', fontsize=10)\n",
    "ax[0,0].set_xlabel('Bike Type', fontsize=8)\n",
    "ax[0,0].set_ylabel('Count', fontsize=8)\n",
    "ax[0,0].legend(title='User Type', fontsize=8)\n",
    "ax[0,0].grid(axis='y', linestyle='--', alpha=0.7)\n",
    "for label in ax[0,1].get_xticklabels():\n",
    "    label.set_fontsize(8)\n",
    "# Monthly Usage by User Type\n",
    "month_order = ['January', 'February', 'March', 'April', 'May', 'June', 'July', 'August', 'September', 'October', 'November', 'December']\n",
    "sns.barplot(data=agg_month, x='month', y='count', hue='member_casual', palette= {\"member\":'#59A33A', \"casual\": '#2D386D'}, ax=ax[0,1], order=month_order)\n",
    "ax[0,1].set_title('Monthly Usage by User Type', fontsize=10)\n",
    "ax[0,1].set_xlabel('Month', fontsize=8)\n",
    "ax[0,1].set_ylabel('Count', fontsize=8)\n",
    "ax[0,1].legend(title='User Type', fontsize=8)\n",
    "ax[0,1].grid(axis='y', linestyle='--', alpha=0.7)\n",
    "for label in ax[0,1].get_xticklabels():\n",
    "    label.set_rotation(45)\n",
    "    label.set_fontsize(8)\n",
    "# Hourly Usage by User Type\n",
    "sns.barplot(data=agg_hour, x='hour', y='count', hue='member_casual', palette= {\"member\":'#59A33A', \"casual\": '#2D386D'} , ax=ax[1,0])\n",
    "ax[1,0].set_title('Hourly Usage by User Type', fontsize=10)\n",
    "ax[1,0].set_xlabel('Hour of the Day', fontsize=8)\n",
    "ax[1,0].set_ylabel('Count', fontsize=8)\n",
    "ax[1,0].legend(title='User Type', fontsize=8)\n",
    "ax[1,0].grid(axis='y', linestyle='--', alpha=0.7)\n",
    "for label in ax[1,0].get_xticklabels():\n",
    "    label.set_rotation(45)\n",
    "    label.set_fontsize(8)\n",
    "# Daily Usage by User Type\n",
    "week_order = ['Monday', 'Tuesday', 'Wednesday', 'Thursday', 'Friday', 'Saturday', 'Sunday']\n",
    "sns.barplot(data=agg_day, x='day_of_week', y='count', hue='member_casual', palette= {\"member\":'#59A33A', \"casual\": '#2D386D'}, ax=ax[1,1], order=week_order)\n",
    "ax[1,1].set_title('Daily Usage by User Type', fontsize=10)\n",
    "ax[1,1].set_xlabel('Day of the Week', fontsize=8)\n",
    "ax[1,1].set_ylabel('Count', fontsize=8)\n",
    "ax[1,1].legend(title='User Type', fontsize=8)\n",
    "ax[1,1].grid(axis='y', linestyle='--', alpha=0.7)\n",
    "for label in ax[1,1].get_xticklabels():\n",
    "    label.set_rotation(45)\n",
    "    label.set_fontsize(8)\n",
    "plt.tight_layout()\n",
    "plt.show()"
   ]
  },
  {
   "cell_type": "markdown",
   "metadata": {},
   "source": [
    "#### **Conclusions :**\n",
    "The ratio of classic bike to electric bike usage appears to be similar for both user types.\n",
    "\n",
    "- For electric scooters, however, casual users seem to use them more frequently than annual members.\n",
    "- Both user types use Cyclistic frequently from May to October, exhibiting a similar monthly distribution of trips.\n",
    "- Hours: Annual members' trips peak at 7 and 8 AM and again between 4 PM, 5 PM, and 6 PM (16:00, 17:00, 18:00), which corresponds to typical working hours.\n",
    "- Hours: Casual riders' trips show peaks between 11 AM and 7 PM (19:00).\n",
    "- Day of Week: Casual members' trips are higher during weekends.\n",
    "- Day of Week: Annual members' trips are higher during weekdays."
   ]
  },
  {
   "cell_type": "markdown",
   "metadata": {},
   "source": [
    "### **4. Distribution :** "
   ]
  },
  {
   "cell_type": "code",
   "execution_count": null,
   "metadata": {},
   "outputs": [
    {
     "data": {
      "text/html": [
       "<style type=\"text/css\">\n",
       "</style>\n",
       "<table id=\"T_729e6\">\n",
       "  <thead>\n",
       "    <tr>\n",
       "      <th class=\"blank\" >&nbsp;</th>\n",
       "      <th class=\"index_name level0\" >member_casual</th>\n",
       "      <th id=\"T_729e6_level0_col0\" class=\"col_heading level0 col0\" >casual</th>\n",
       "      <th id=\"T_729e6_level0_col1\" class=\"col_heading level0 col1\" >member</th>\n",
       "    </tr>\n",
       "  </thead>\n",
       "  <tbody>\n",
       "    <tr>\n",
       "      <th id=\"T_729e6_level0_row0\" class=\"row_heading level0 row0\" rowspan=\"3\">duration_min</th>\n",
       "      <th id=\"T_729e6_level1_row0\" class=\"row_heading level1 row0\" >mean</th>\n",
       "      <td id=\"T_729e6_row0_col0\" class=\"data row0 col0\" >21.10</td>\n",
       "      <td id=\"T_729e6_row0_col1\" class=\"data row0 col1\" >12.23</td>\n",
       "    </tr>\n",
       "    <tr>\n",
       "      <th id=\"T_729e6_level1_row1\" class=\"row_heading level1 row1\" >median</th>\n",
       "      <td id=\"T_729e6_row1_col0\" class=\"data row1 col0\" >12.02</td>\n",
       "      <td id=\"T_729e6_row1_col1\" class=\"data row1 col1\" >8.69</td>\n",
       "    </tr>\n",
       "    <tr>\n",
       "      <th id=\"T_729e6_level1_row2\" class=\"row_heading level1 row2\" >std</th>\n",
       "      <td id=\"T_729e6_row2_col0\" class=\"data row2 col0\" >45.48</td>\n",
       "      <td id=\"T_729e6_row2_col1\" class=\"data row2 col1\" >21.74</td>\n",
       "    </tr>\n",
       "    <tr>\n",
       "      <th id=\"T_729e6_level0_row3\" class=\"row_heading level0 row3\" rowspan=\"3\">distance_kms</th>\n",
       "      <th id=\"T_729e6_level1_row3\" class=\"row_heading level1 row3\" >mean</th>\n",
       "      <td id=\"T_729e6_row3_col0\" class=\"data row3 col0\" >2.11</td>\n",
       "      <td id=\"T_729e6_row3_col1\" class=\"data row3 col1\" >2.18</td>\n",
       "    </tr>\n",
       "    <tr>\n",
       "      <th id=\"T_729e6_level1_row4\" class=\"row_heading level1 row4\" >median</th>\n",
       "      <td id=\"T_729e6_row4_col0\" class=\"data row4 col0\" >1.58</td>\n",
       "      <td id=\"T_729e6_row4_col1\" class=\"data row4 col1\" >1.56</td>\n",
       "    </tr>\n",
       "    <tr>\n",
       "      <th id=\"T_729e6_level1_row5\" class=\"row_heading level1 row5\" >std</th>\n",
       "      <td id=\"T_729e6_row5_col0\" class=\"data row5 col0\" >5.51</td>\n",
       "      <td id=\"T_729e6_row5_col1\" class=\"data row5 col1\" >4.88</td>\n",
       "    </tr>\n",
       "  </tbody>\n",
       "</table>\n"
      ],
      "text/plain": [
       "<pandas.io.formats.style.Styler at 0x145c2003f20>"
      ]
     },
     "execution_count": 52,
     "metadata": {},
     "output_type": "execute_result"
    }
   ],
   "source": [
    "# Summary statistics for distance, duration by user type\n",
    "data.groupby('member_casual')[['duration_min', 'distance_kms']].aggregate(['mean', 'median', 'std']).T.style.format(\"{:.2f}\")"
   ]
  },
  {
   "cell_type": "code",
   "execution_count": null,
   "metadata": {},
   "outputs": [
    {
     "data": {
      "image/png": "[encoded data removed]",
      "text/plain": [
       "<Figure size 800x400 with 2 Axes>"
      ]
     },
     "metadata": {},
     "output_type": "display_data"
    }
   ],
   "source": [
    "# plot the distribution of distance_kms and duration_min\n",
    "fig, ax = plt.subplots(nrows=1, ncols=2, figsize=(8,4))\n",
    "# plot trip distance in kms\n",
    "sns.boxplot(data=data, x='distance_kms', y='member_casual', hue='member_casual', palette= {\"member\":'#59A33A', \"casual\": '#2D386D'} , ax=ax[0], showfliers=False, width=0.5)\n",
    "ax[0].set_title('Distance distribution', fontsize=10)\n",
    "ax[0].set_xlabel('Distance (km)', fontsize=8)\n",
    "ax[0].set_ylabel('User Type', fontsize=8)\n",
    "ax[0].grid(axis='x', linestyle='--', alpha=0.7)\n",
    "\n",
    "# plot trip duration in minutes: \n",
    "sns.boxplot(data=data, x='duration_min', y='member_casual', hue='member_casual', palette= {\"member\":'#59A33A', \"casual\": '#2D386D'} ,ax=ax[1], showfliers=False, width=0.5)\n",
    "ax[1].set_title('Duration distribution', fontsize=10)\n",
    "ax[1].set_xlabel('Duration (min)', fontsize=8)\n",
    "ax[1].set_ylabel('User Type', fontsize=8)\n",
    "ax[1].grid(axis='x', linestyle='--', alpha=0.7)\n",
    "plt.tight_layout()\n",
    "plt.show()"
   ]
  },
  {
   "cell_type": "code",
   "execution_count": null,
   "metadata": {},
   "outputs": [],
   "source": [
    "# Calculate outliers for distance and duration\n",
    "def calculate_outliers(df, column):\n",
    "    Q1 = df[column].quantile(0.25)\n",
    "    Q3 = df[column].quantile(0.75)\n",
    "    IQR = Q3 - Q1 # Interquartile Range\n",
    "    upper_bound = round((Q3 + 1.5 * IQR), 2)\n",
    "    return upper_bound"
   ]
  },
  {
   "cell_type": "code",
   "execution_count": null,
   "metadata": {},
   "outputs": [
    {
     "name": "stdout",
     "output_type": "stream",
     "text": [
      "The upper_bound distance for annual members is:  5.76 kms\n",
      "The upper_bound distance for casual riders is:  5.61 kms\n",
      "The number of outliers for annual members is :  331144\n",
      "The number of outliers for casual riders is :  357345\n"
     ]
    }
   ],
   "source": [
    "# DISTANCE OUTLIERS: \n",
    "print(\"The upper_bound distance for annual members is: \", str(calculate_outliers(data[data['member_casual']=='member'], 'distance_kms'))+' kms')\n",
    "print(\"The upper_bound distance for casual riders is: \", str(calculate_outliers(data[data['member_casual']=='casual'], 'distance_kms'))+ ' kms')\n",
    "print (\"The number of outliers for annual members is : \", len(data[data['distance_kms'] > calculate_outliers(data[data['member_casual']=='member'], 'distance_kms')]))\n",
    "print (\"The number of outliers for casual riders is : \", len(data[data['distance_kms'] > calculate_outliers(data[data['member_casual']=='casual'], 'distance_kms')]))\n"
   ]
  },
  {
   "cell_type": "code",
   "execution_count": null,
   "metadata": {},
   "outputs": [
    {
     "name": "stdout",
     "output_type": "stream",
     "text": [
      "The upper_bound duration for annual members is:  29.32 minutes\n",
      "The upper_bound duration for casual riders is:  46.54 minutes\n",
      "The number of outliers for annual members is :  602165\n",
      "The number of outliers for casual riders is :  239923\n"
     ]
    }
   ],
   "source": [
    "# DURATION OUTLIERS:\n",
    "print(\"The upper_bound duration for annual members is: \", str(calculate_outliers(data[data['member_casual']=='member'], 'duration_min'))+' minutes')\n",
    "print(\"The upper_bound duration for casual riders is: \", str(calculate_outliers(data[data['member_casual']=='casual'], 'duration_min'))+ ' minutes')\n",
    "print (\"The number of outliers for annual members is : \", len(data[data['duration_min'] > calculate_outliers(data[data['member_casual']=='member'], 'duration_min')]))\n",
    "print (\"The number of outliers for casual riders is : \", len(data[data['duration_min'] > calculate_outliers(data[data['member_casual']=='casual'], 'duration_min')]))"
   ]
  },
  {
   "cell_type": "code",
   "execution_count": null,
   "metadata": {},
   "outputs": [
    {
     "name": "stdout",
     "output_type": "stream",
     "text": [
      "Outliers in distance for members: 8.93%\n",
      "Outliers in distance for casual riders: 16.66%\n",
      "Outliers in duration for members: 16.24%\n",
      "Outliers in duration for casual riders: 11.18%\n"
     ]
    }
   ],
   "source": [
    "# LET'S SEE THE % OF OUTLIERS FOR EACH USER TYPE\n",
    "outliers_distance_member = len(data[data['distance_kms'] > calculate_outliers(data[data['member_casual']=='member'], 'distance_kms')]) \\\n",
    "    / len(data[data['member_casual']=='member']) * 100\n",
    "outliers_distance_casual = len(data[data['distance_kms'] > calculate_outliers(data[data['member_casual']=='casual'], 'distance_kms')]) \\\n",
    "    / len(data[data['member_casual']=='casual']) * 100\n",
    "outliers_duration_member = len(data[data['duration_min'] > calculate_outliers(data[data['member_casual']=='member'], 'duration_min')]) \\\n",
    "    / len(data[data['member_casual']=='member']) * 100\n",
    "outliers_duration_casual = len(data[data['duration_min'] > calculate_outliers(data[data['member_casual']=='casual'], 'duration_min')]) \\\n",
    "    / len(data[data['member_casual']=='casual']) * 100\n",
    "\n",
    "print(f\"Outliers in distance for members: {outliers_distance_member:.2f}%\")\n",
    "print(f\"Outliers in distance for casual riders: {outliers_distance_casual:.2f}%\")\n",
    "print(f\"Outliers in duration for members: {outliers_duration_member:.2f}%\")\n",
    "print(f\"Outliers in duration for casual riders: {outliers_duration_casual:.2f}%\")"
   ]
  },
  {
   "cell_type": "markdown",
   "metadata": {},
   "source": [
    "#### **Conclusions :**\n",
    "- Distance: Both user types appear to have a similar distance distribution once outliers are removed. The upper limit for trips seems to be consistent around 5 kilometers for both.\n",
    "- Distance Outlier Analysis: The number of distance outliers is higher for casual riders, accounting for 17% of their total trips, compared to 9% for annual members.\n",
    "- Duration: Trip duration appears to be a core difference between casual users and annual members.\n",
    "- Duration Distribution: The duration distribution clearly shows that casual users' trips are longer, with a mean of 21 minutes and a standard deviation of 45 minutes."
   ]
  },
  {
   "cell_type": "markdown",
   "metadata": {},
   "source": [
    "## **IV) Recommandations**"
   ]
  },
  {
   "cell_type": "markdown",
   "metadata": {},
   "source": [
    "##### **1. Key Differences Between Annual Members and Casual Riders :**\n",
    "- Annual members account for 63.3% (roughly two-thirds) of total trips, while casual riders make up the remaining 36.7%.\n",
    "- Two primary factors differentiate these user groups: trip duration and day of week usage.\n",
    "    - Casual riders generally take longer trips and use the service significantly more often on weekends. \\\n",
    "    They also show a higher incidence of outlier trips exceeding 5 kilometers and tend to use electric scooters more frequently than annual members.\n",
    "    - In contrast, annual members use the service more frequently during weekdays, with their trips being shorter overall; 50% of these trips last under 9 minutes.\\\n",
    "    Their trip distribution shows two distinct peaks around 7 AM and 5 PM, aligning with typical commuting hours."
   ]
  },
  {
   "cell_type": "markdown",
   "metadata": {},
   "source": [
    "##### **2. Actions :**\n",
    "- Create special weekend-only membership tiers or discounted weekend passes.\n",
    "- Provide discounts or capped pricing for rides exceeding a certain duration \\\n",
    "(e.g., \"First 30 minutes free, then a lower per-minute rate for members,\" or \"No extra charges for rides up to 60 minutes for members\").\n",
    "- Run targeted promotions for annual memberships during their peak usage months. This could include limited-time discounts or bonus ride credits for new sign-ups.\n",
    "- Run targeted promotions for annual memberships during their peak usage months. This could include limited-time discounts or bonus ride credits for new sign-ups."
   ]
  },
  {
   "cell_type": "markdown",
   "metadata": {},
   "source": [
    "## **V) PowerBI Analysis**"
   ]
  },
  {
   "cell_type": "code",
   "execution_count": null,
   "metadata": {},
   "outputs": [],
   "source": [
    "# Export data for PowerBI analysis: \n",
    "data.to_csv('cyclistic_data_analysis.csv', index=False)"
   ]
  },
  {
   "cell_type": "code",
   "execution_count": null,
   "metadata": {},
   "outputs": [],
   "source": [
    "geographic_data = final_df[['ride_id', 'start_station_name', 'start_station_id',\t\n",
    "                            'end_station_name',\t'end_station_id',\n",
    "                            'start_lat', 'start_lng', \n",
    "                            'end_lat', 'end_lng']].copy()\n",
    "geographic_data.to_csv('cyclistic_geographic_data.csv', index=False)"
   ]
  }
 ],
 "metadata": {
  "kernelspec": {
   "display_name": "base",
   "language": "python",
   "name": "python3"
  },
  "language_info": {
   "codemirror_mode": {
    "name": "ipython",
    "version": 3
   },
   "file_extension": ".py",
   "mimetype": "text/x-python",
   "name": "python",
   "nbconvert_exporter": "python",
   "pygments_lexer": "ipython3",
   "version": "3.12.7"
  }
 },
 "nbformat": 4,
 "nbformat_minor": 2
}
